{
 "cells": [
  {
   "cell_type": "markdown",
   "metadata": {},
   "source": [
    "## Bank Account Manager\n",
    "\n",
    "The goal is to create\n",
    "a class called ``Account``\n",
    "which will be an abstract class for three other classes called\n",
    "``CheckingAccount``,\n",
    "``SavingsAccount`` and\n",
    "``BusinessAccount``.\n",
    "\n",
    "Then you should manage ``credits`` and ``debits`` from these accounts through an ATM style program."
   ]
  },
  {
   "cell_type": "markdown",
   "metadata": {},
   "source": [
    "### Project Wishlist\n",
    "We might consider additional features, like:\n",
    "* impose a monthly maintenance fee\n",
    "* waive fees for minimum combined deposit balances\n",
    "* each account may have additional properties unique to that account:\n",
    " * Checking allows unlimited transactions, and may keep track of printed checks\n",
    " * Savings limits the number of withdrawals per period, and may earn interest\n",
    " * Business may impose transaction fees\n",
    "* automatically transfer the \"change\" for debit card purchases from Checking to Savings, <br>where \"change\" is the amount needed to raise a debit to the nearest whole dollar\n",
    "* permit savings autodraft overdraft protection\n",
    "\n",
    "### Let's get started!"
   ]
  },
  {
   "cell_type": "code",
   "execution_count": 177,
   "metadata": {},
   "outputs": [],
   "source": [
    "# Abstract class\n",
    "class Account:\n",
    "    \n",
    "    def __init__(self, acct_nbr, opening_deposit):\n",
    "        self.acct_nbr= acct_nbr\n",
    "        self.balance = opening_deposit\n",
    "        \n",
    "    def __str__(self):\n",
    "        return f'Balance: {self.balance:.2f}'\n",
    "    \n",
    "    def deposit(self, amount):\n",
    "        self.balance += amount\n",
    "    \n",
    "    def withdraw(self, amount):\n",
    "        if self.balance >= amount:\n",
    "            self.balance -= amount\n",
    "        else:\n",
    "            print('Insufficiant Funds.')"
   ]
  },
  {
   "cell_type": "code",
   "execution_count": 178,
   "metadata": {},
   "outputs": [],
   "source": [
    "class CheckingAccount(Account):\n",
    "    \n",
    "    def __init__(self, acct_nbr, opening_deposit):\n",
    "        Account.__init__(self, acct_nbr, opening_deposit)\n",
    "    \n",
    "    def __str__(self):\n",
    "        return f\"Checking account: #{self.acct_nbr}\\nBalance: ${self.balance:.2f}\"\n",
    "\n",
    "    \n",
    "class SavingsAccount(Account):\n",
    "    \n",
    "    def __init__(self, acct_nbr, opening_deposit):\n",
    "        super().__init__(acct_nbr, opening_deposit)\n",
    "    \n",
    "    def __str__(self):\n",
    "        return f\"Savings account: #{self.acct_nbr}\\nBalance: ${self.balance:.2f}\"\n",
    "    \n",
    "    \n",
    "class BusinessAccount(Account):\n",
    "    \n",
    "    def __init__(self, acct_nbr, opening_deposit):\n",
    "        super().__init__(acct_nbr, opening_deposit)\n",
    "    \n",
    "    def __str__(self):\n",
    "        return f\"Business account: #{self.acct_nbr}\\nBalance: ${self.balance:.2f}\"\n",
    "    \n",
    "    "
   ]
  },
  {
   "cell_type": "code",
   "execution_count": 179,
   "metadata": {},
   "outputs": [],
   "source": [
    "my_acct = CheckingAccount(12345, 555)"
   ]
  },
  {
   "cell_type": "code",
   "execution_count": 180,
   "metadata": {},
   "outputs": [
    {
     "data": {
      "text/plain": [
       "12345"
      ]
     },
     "execution_count": 180,
     "metadata": {},
     "output_type": "execute_result"
    }
   ],
   "source": [
    "my_acct.acct_nbr"
   ]
  },
  {
   "cell_type": "code",
   "execution_count": 181,
   "metadata": {},
   "outputs": [
    {
     "data": {
      "text/plain": [
       "555"
      ]
     },
     "execution_count": 181,
     "metadata": {},
     "output_type": "execute_result"
    }
   ],
   "source": [
    "my_acct.balance"
   ]
  },
  {
   "cell_type": "code",
   "execution_count": 182,
   "metadata": {},
   "outputs": [],
   "source": [
    "my_acct.deposit(200)"
   ]
  },
  {
   "cell_type": "code",
   "execution_count": 183,
   "metadata": {},
   "outputs": [],
   "source": [
    "my_acct.withdraw(100)"
   ]
  },
  {
   "cell_type": "code",
   "execution_count": 184,
   "metadata": {},
   "outputs": [],
   "source": [
    "class Customer:\n",
    "    \n",
    "    def __init__(self, name, PIN):\n",
    "        self.name = name\n",
    "        self.PIN = PIN\n",
    "        self.accts = {'C':[], 'S':[], 'B':[]}\n",
    "        \n",
    "    def __str__(self):\n",
    "        return self.name\n",
    "    \n",
    "    def open_checking(self, acct_nbr, opening_deposit):\n",
    "        self.accts['C'].append(CheckingAccount(acct_nbr, opening_deposit))\n",
    "        \n",
    "    def open_savings(self, acct_nbr, opening_deposit):\n",
    "        self.accts['S'].append(SavingsAccount(acct_nbr, opening_deposit))\n",
    "        \n",
    "    def open_business(self, acct_nbr, opening_deposit):\n",
    "        self.accts['B'].append(BusinessAccount(acct_nbr, opening_deposit))\n",
    "        \n",
    "    def get_total_deposits(self):\n",
    "        total = 0\n",
    "        for acct_type in self.accts.keys():\n",
    "            for acct in self.accts[acct_type]:\n",
    "                print(f\"{acct} \\n\")\n",
    "                total += acct.balance\n",
    "        print(f\"Combined Deposits: ${total:.2f}\")\n",
    "\n",
    "        \n",
    "        \n",
    "        "
   ]
  },
  {
   "cell_type": "code",
   "execution_count": 185,
   "metadata": {},
   "outputs": [],
   "source": [
    "anna = Customer('Anna', 1234)"
   ]
  },
  {
   "cell_type": "code",
   "execution_count": 186,
   "metadata": {},
   "outputs": [],
   "source": [
    "anna.open_checking(1111, 1000)"
   ]
  },
  {
   "cell_type": "code",
   "execution_count": 187,
   "metadata": {},
   "outputs": [],
   "source": [
    "anna.open_checking(2222, 500)"
   ]
  },
  {
   "cell_type": "code",
   "execution_count": 188,
   "metadata": {},
   "outputs": [],
   "source": [
    "anna.open_savings(3333, 1000)"
   ]
  },
  {
   "cell_type": "code",
   "execution_count": 189,
   "metadata": {},
   "outputs": [],
   "source": [
    "anna.open_business(4444, 10000)"
   ]
  },
  {
   "cell_type": "code",
   "execution_count": 190,
   "metadata": {},
   "outputs": [
    {
     "name": "stdout",
     "output_type": "stream",
     "text": [
      "Checking account: #1111\n",
      "Balance: $1000.00 \n",
      "\n",
      "Checking account: #2222\n",
      "Balance: $500.00 \n",
      "\n",
      "Savings account: #3333\n",
      "Balance: $1000.00 \n",
      "\n",
      "Business account: #4444\n",
      "Balance: $10000.00 \n",
      "\n",
      "Combined Deposits: $12500.00\n"
     ]
    }
   ],
   "source": [
    "anna.get_total_deposits()"
   ]
  },
  {
   "cell_type": "code",
   "execution_count": 191,
   "metadata": {},
   "outputs": [],
   "source": [
    "def make_deposit(client, acct_type, acct_nbr, deposit_amnt):\n",
    "    \"\"\"\n",
    "    make_deposit(name, acct_type, acct_nbr, deposit_amnt)\n",
    "    client       = variable name (Customer record) \n",
    "    acct_type    = string 'C' checking, 'S' savings, 'B' business\n",
    "    acct_nbr     = integer\n",
    "    deposit_amnt = integer\n",
    "    \"\"\"\n",
    "    for acct in client.accts[acct_type]:\n",
    "        if acct.acct_nbr == acct_nbr:\n",
    "            acct.deposit(deposit_amnt)\n",
    "            "
   ]
  },
  {
   "cell_type": "code",
   "execution_count": 192,
   "metadata": {},
   "outputs": [],
   "source": [
    "make_deposit(anna, 'C', 2222, 12)"
   ]
  },
  {
   "cell_type": "code",
   "execution_count": 193,
   "metadata": {},
   "outputs": [
    {
     "name": "stdout",
     "output_type": "stream",
     "text": [
      "Checking account: #1111\n",
      "Balance: $1000.00 \n",
      "\n",
      "Checking account: #2222\n",
      "Balance: $512.00 \n",
      "\n",
      "Savings account: #3333\n",
      "Balance: $1000.00 \n",
      "\n",
      "Business account: #4444\n",
      "Balance: $10000.00 \n",
      "\n",
      "Combined Deposits: $12512.00\n"
     ]
    }
   ],
   "source": [
    "anna.get_total_deposits()"
   ]
  },
  {
   "cell_type": "code",
   "execution_count": 194,
   "metadata": {},
   "outputs": [],
   "source": [
    "def make_withdraw(client, acct_type, acct_nbr, withdraw_amnt):\n",
    "    \"\"\"\n",
    "    make_deposit(name, acct_type, acct_nbr, deposit_amnt)\n",
    "    client       = variable name (Customer record) \n",
    "    acct_type    = string 'C' checking, 'S' savings, 'B' business\n",
    "    acct_nbr     = integer\n",
    "    withdraw_amnt = integer\n",
    "    \"\"\"\n",
    "    for acct in client.accts[acct_type]:\n",
    "        if acct.acct_nbr == acct_nbr:\n",
    "            acct.withdraw(withdraw_amnt)\n",
    "            "
   ]
  },
  {
   "cell_type": "code",
   "execution_count": 195,
   "metadata": {},
   "outputs": [
    {
     "name": "stdout",
     "output_type": "stream",
     "text": [
      "Insufficiant Funds.\n"
     ]
    }
   ],
   "source": [
    "make_withdraw(anna, 'B', 4444, 80000)"
   ]
  },
  {
   "cell_type": "code",
   "execution_count": 196,
   "metadata": {},
   "outputs": [
    {
     "name": "stdout",
     "output_type": "stream",
     "text": [
      "Checking account: #1111\n",
      "Balance: $1000.00 \n",
      "\n",
      "Checking account: #2222\n",
      "Balance: $512.00 \n",
      "\n",
      "Savings account: #3333\n",
      "Balance: $1000.00 \n",
      "\n",
      "Business account: #4444\n",
      "Balance: $10000.00 \n",
      "\n",
      "Combined Deposits: $12512.00\n"
     ]
    }
   ],
   "source": [
    "anna.get_total_deposits()"
   ]
  },
  {
   "cell_type": "code",
   "execution_count": null,
   "metadata": {},
   "outputs": [],
   "source": []
  },
  {
   "cell_type": "code",
   "execution_count": null,
   "metadata": {},
   "outputs": [],
   "source": []
  },
  {
   "cell_type": "code",
   "execution_count": null,
   "metadata": {},
   "outputs": [],
   "source": []
  }
 ],
 "metadata": {
  "kernelspec": {
   "display_name": "Python 3",
   "language": "python",
   "name": "python3"
  },
  "language_info": {
   "codemirror_mode": {
    "name": "ipython",
    "version": 3
   },
   "file_extension": ".py",
   "mimetype": "text/x-python",
   "name": "python",
   "nbconvert_exporter": "python",
   "pygments_lexer": "ipython3",
   "version": "3.7.6"
  }
 },
 "nbformat": 4,
 "nbformat_minor": 4
}
